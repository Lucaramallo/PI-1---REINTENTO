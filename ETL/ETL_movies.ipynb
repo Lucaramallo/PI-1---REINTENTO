{
 "cells": [
  {
   "attachments": {},
   "cell_type": "markdown",
   "metadata": {},
   "source": [
    "# ETL Movies"
   ]
  },
  {
   "cell_type": "code",
   "execution_count": 12,
   "metadata": {},
   "outputs": [
    {
     "name": "stdout",
     "output_type": "stream",
     "text": [
      "hiworld\n"
     ]
    }
   ],
   "source": [
    "print('hiworld')"
   ]
  },
  {
   "cell_type": "code",
   "execution_count": 13,
   "metadata": {},
   "outputs": [
    {
     "data": {
      "text/html": [
       "<div>\n",
       "<style scoped>\n",
       "    .dataframe tbody tr th:only-of-type {\n",
       "        vertical-align: middle;\n",
       "    }\n",
       "\n",
       "    .dataframe tbody tr th {\n",
       "        vertical-align: top;\n",
       "    }\n",
       "\n",
       "    .dataframe thead th {\n",
       "        text-align: right;\n",
       "    }\n",
       "</style>\n",
       "<table border=\"1\" class=\"dataframe\">\n",
       "  <thead>\n",
       "    <tr style=\"text-align: right;\">\n",
       "      <th></th>\n",
       "      <th>show_id</th>\n",
       "      <th>type</th>\n",
       "      <th>title</th>\n",
       "      <th>director</th>\n",
       "      <th>cast</th>\n",
       "      <th>country</th>\n",
       "      <th>date_added</th>\n",
       "      <th>release_year</th>\n",
       "      <th>rating</th>\n",
       "      <th>duration</th>\n",
       "      <th>listed_in</th>\n",
       "      <th>description</th>\n",
       "    </tr>\n",
       "  </thead>\n",
       "  <tbody>\n",
       "    <tr>\n",
       "      <th>0</th>\n",
       "      <td>s1</td>\n",
       "      <td>Movie</td>\n",
       "      <td>The Grand Seduction</td>\n",
       "      <td>Don McKellar</td>\n",
       "      <td>Brendan Gleeson, Taylor Kitsch, Gordon Pinsent</td>\n",
       "      <td>Canada</td>\n",
       "      <td>March 30, 2021</td>\n",
       "      <td>2014</td>\n",
       "      <td>NaN</td>\n",
       "      <td>113 min</td>\n",
       "      <td>Comedy, Drama</td>\n",
       "      <td>A small fishing village must procure a local d...</td>\n",
       "    </tr>\n",
       "    <tr>\n",
       "      <th>1</th>\n",
       "      <td>s2</td>\n",
       "      <td>Movie</td>\n",
       "      <td>Take Care Good Night</td>\n",
       "      <td>Girish Joshi</td>\n",
       "      <td>Mahesh Manjrekar, Abhay Mahajan, Sachin Khedekar</td>\n",
       "      <td>India</td>\n",
       "      <td>March 30, 2021</td>\n",
       "      <td>2018</td>\n",
       "      <td>13+</td>\n",
       "      <td>110 min</td>\n",
       "      <td>Drama, International</td>\n",
       "      <td>A Metro Family decides to fight a Cyber Crimin...</td>\n",
       "    </tr>\n",
       "    <tr>\n",
       "      <th>2</th>\n",
       "      <td>s3</td>\n",
       "      <td>Movie</td>\n",
       "      <td>Secrets of Deception</td>\n",
       "      <td>Josh Webber</td>\n",
       "      <td>Tom Sizemore, Lorenzo Lamas, Robert LaSardo, R...</td>\n",
       "      <td>United States</td>\n",
       "      <td>March 30, 2021</td>\n",
       "      <td>2017</td>\n",
       "      <td>NaN</td>\n",
       "      <td>74 min</td>\n",
       "      <td>Action, Drama, Suspense</td>\n",
       "      <td>After a man discovers his wife is cheating on ...</td>\n",
       "    </tr>\n",
       "    <tr>\n",
       "      <th>3</th>\n",
       "      <td>s4</td>\n",
       "      <td>Movie</td>\n",
       "      <td>Pink: Staying True</td>\n",
       "      <td>Sonia Anderson</td>\n",
       "      <td>Interviews with: Pink, Adele, Beyoncé, Britney...</td>\n",
       "      <td>United States</td>\n",
       "      <td>March 30, 2021</td>\n",
       "      <td>2014</td>\n",
       "      <td>NaN</td>\n",
       "      <td>69 min</td>\n",
       "      <td>Documentary</td>\n",
       "      <td>Pink breaks the mold once again, bringing her ...</td>\n",
       "    </tr>\n",
       "    <tr>\n",
       "      <th>4</th>\n",
       "      <td>s5</td>\n",
       "      <td>Movie</td>\n",
       "      <td>Monster Maker</td>\n",
       "      <td>Giles Foster</td>\n",
       "      <td>Harry Dean Stanton, Kieran O'Brien, George Cos...</td>\n",
       "      <td>United Kingdom</td>\n",
       "      <td>March 30, 2021</td>\n",
       "      <td>1989</td>\n",
       "      <td>NaN</td>\n",
       "      <td>45 min</td>\n",
       "      <td>Drama, Fantasy</td>\n",
       "      <td>Teenage Matt Banting wants to work with a famo...</td>\n",
       "    </tr>\n",
       "  </tbody>\n",
       "</table>\n",
       "</div>"
      ],
      "text/plain": [
       "  show_id   type                 title        director   \n",
       "0      s1  Movie   The Grand Seduction    Don McKellar  \\\n",
       "1      s2  Movie  Take Care Good Night    Girish Joshi   \n",
       "2      s3  Movie  Secrets of Deception     Josh Webber   \n",
       "3      s4  Movie    Pink: Staying True  Sonia Anderson   \n",
       "4      s5  Movie         Monster Maker    Giles Foster   \n",
       "\n",
       "                                                cast         country   \n",
       "0     Brendan Gleeson, Taylor Kitsch, Gordon Pinsent          Canada  \\\n",
       "1   Mahesh Manjrekar, Abhay Mahajan, Sachin Khedekar           India   \n",
       "2  Tom Sizemore, Lorenzo Lamas, Robert LaSardo, R...   United States   \n",
       "3  Interviews with: Pink, Adele, Beyoncé, Britney...   United States   \n",
       "4  Harry Dean Stanton, Kieran O'Brien, George Cos...  United Kingdom   \n",
       "\n",
       "       date_added  release_year rating duration                listed_in   \n",
       "0  March 30, 2021          2014    NaN  113 min            Comedy, Drama  \\\n",
       "1  March 30, 2021          2018    13+  110 min     Drama, International   \n",
       "2  March 30, 2021          2017    NaN   74 min  Action, Drama, Suspense   \n",
       "3  March 30, 2021          2014    NaN   69 min              Documentary   \n",
       "4  March 30, 2021          1989    NaN   45 min           Drama, Fantasy   \n",
       "\n",
       "                                         description  \n",
       "0  A small fishing village must procure a local d...  \n",
       "1  A Metro Family decides to fight a Cyber Crimin...  \n",
       "2  After a man discovers his wife is cheating on ...  \n",
       "3  Pink breaks the mold once again, bringing her ...  \n",
       "4  Teenage Matt Banting wants to work with a famo...  "
      ]
     },
     "execution_count": 13,
     "metadata": {},
     "output_type": "execute_result"
    }
   ],
   "source": [
    "import pandas as pd\n",
    "\n",
    "dfaws = pd.read_csv(r'../Datasets/movi/amazon_prime_titles.csv', sep=',', encoding='UTF-8', thousands=',', decimal='.') # importo CSV.\n",
    "\n",
    "dfaws.head(5)"
   ]
  },
  {
   "cell_type": "code",
   "execution_count": 14,
   "metadata": {},
   "outputs": [],
   "source": [
    "dfaws = dfaws.drop_duplicates() #borro duplicates"
   ]
  },
  {
   "cell_type": "code",
   "execution_count": 15,
   "metadata": {},
   "outputs": [],
   "source": [
    "\n",
    "dfaws['id'] = dfaws['show_id'].apply(lambda x: 'a' + str(x)) # agrego segun consigna la info a id column. Guardandola ahora como \"id\"\n",
    "dfaws = dfaws.assign(plataforma='AWS') #discrimino la plataforma para luego poder diferenciar en el df maestro\n",
    "dfaws = dfaws.drop('show_id', axis=1) # elimino vieja columna \"show_id\".\n",
    "dfaws = dfaws[['id','plataforma', 'type', 'title', 'director', 'cast', 'country', 'date_added', 'release_year', 'rating', 'duration', 'listed_in', 'description']] # reordeno para mayor comodidad, reemplazando la nueva columna \"id\" en lugar de \"show_id\""
   ]
  },
  {
   "cell_type": "code",
   "execution_count": 16,
   "metadata": {},
   "outputs": [],
   "source": [
    "dfaws['rating'] = dfaws['rating'].fillna('G') #relleno nulos de rating seguun consigna con \"G\""
   ]
  },
  {
   "cell_type": "code",
   "execution_count": 17,
   "metadata": {},
   "outputs": [],
   "source": [
    "# De haber fechas, deberán tener el formato AAAA-mm-dd...\n",
    "dfaws['date_added'] = pd.to_datetime(dfaws['date_added']) # transformo a formato date\n",
    "dfaws['date_added'] = dfaws['date_added'].dt.strftime('%Y-%m-%d')  #cambio el formato de las fechas reordenando"
   ]
  },
  {
   "cell_type": "code",
   "execution_count": 18,
   "metadata": {},
   "outputs": [],
   "source": [
    "dfaws = dfaws.applymap(lambda x: x.lower() if type(x) == str else x) #Transformo todo en minusculas por simplicidad y p/ evitar futuros errores.\n",
    "\n",
    "dfaws[['duration_int', 'duration_type']] = dfaws['duration'].str.extract('(\\d+) (\\D+)') # Separo columna duration en duration_int (solo minutos) y duration type (seasons)\n",
    "dfaws = dfaws.drop('duration', axis=1) # elimino vieja columna \"duration\" ya sustituida por las anteriores\n",
    "dfaws = dfaws[['id','plataforma', 'type', 'title', 'director', 'cast', 'country', 'date_added', 'release_year', 'rating', 'duration_int','duration_type', 'listed_in', 'description']] # reordeno para mayor comodidad, reemplazando duration con duration_int y duration_type\n",
    "# se observo en este dataframe valores faltantes en cast director country y date added (este ultimo será sustituido por el promedio del resto de las peliculas registradas en el csv, para minimizar la pérdida de datos)\n"
   ]
  },
  {
   "cell_type": "code",
   "execution_count": 19,
   "metadata": {},
   "outputs": [],
   "source": [
    "\n",
    "\n",
    "# convierte la columna date_added a tipo datetime\n",
    "dfaws['date_added'] = pd.to_datetime(dfaws['date_added'], errors='coerce')\n",
    "\n",
    "# elige la fecha promedio y reemplaza los valores nulos en la columna date_added\n",
    "date_mean = dfaws['date_added'].mean()\n",
    "dfaws['date_added'].fillna(date_mean, inplace=True)\n",
    "\n",
    "# selecciona sólo la fecha y conviértela en formato AAAA-mm-dd\n",
    "dfaws['date_added'] = pd.Series(dfaws['date_added'].values).dt.strftime('%Y-%m-%d')\n",
    "\n",
    "\n",
    "\n",
    "dfaws.fillna('unknown', inplace=True) # relleno los demas valores faltantes de country cast, director con \"unknown\" , tambien para minimizar la perdida de datos.\n"
   ]
  },
  {
   "cell_type": "code",
   "execution_count": 20,
   "metadata": {},
   "outputs": [],
   "source": [
    "#transformacion de todos los tipos de datos presentes en el df.\n",
    "dfaws['id'] = dfaws['id'].astype('object')\n",
    "dfaws['plataforma'] = dfaws['plataforma'].astype('category')\n",
    "dfaws['type'] = dfaws['type'].astype('category')\n",
    "dfaws['title'] = dfaws['title'].astype('object')\n",
    "dfaws['director'] = dfaws['director'].astype('object')\n",
    "dfaws['cast'] = dfaws['cast'].astype('object')\n",
    "dfaws['country'] = dfaws['country'].astype('category')\n",
    "dfaws['date_added'] = pd.to_datetime(dfaws['date_added'])\n",
    "dfaws['release_year'] = dfaws['release_year'].astype('int64')\n",
    "dfaws['rating'] = dfaws['rating'].astype('category')\n",
    "dfaws['duration_int'] = dfaws['duration_int'].astype('int64')\n",
    "dfaws['duration_type'] = dfaws['duration_type'].astype('category')\n",
    "dfaws['listed_in'] = dfaws['listed_in'].astype('category')\n",
    "dfaws['description'] = dfaws['description'].astype('object')\n"
   ]
  }
 ],
 "metadata": {
  "kernelspec": {
   "display_name": "Python 3",
   "language": "python",
   "name": "python3"
  },
  "language_info": {
   "codemirror_mode": {
    "name": "ipython",
    "version": 3
   },
   "file_extension": ".py",
   "mimetype": "text/x-python",
   "name": "python",
   "nbconvert_exporter": "python",
   "pygments_lexer": "ipython3",
   "version": "3.10.11"
  },
  "orig_nbformat": 4
 },
 "nbformat": 4,
 "nbformat_minor": 2
}
